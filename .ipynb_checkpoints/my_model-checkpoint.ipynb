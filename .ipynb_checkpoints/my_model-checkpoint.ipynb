{
 "cells": [
  {
   "cell_type": "code",
   "execution_count": 7,
   "metadata": {},
   "outputs": [
    {
     "data": {
      "text/plain": [
       "233"
      ]
     },
     "execution_count": 7,
     "metadata": {},
     "output_type": "execute_result"
    }
   ],
   "source": [
    "from binance.client import Client\n",
    "\n",
    "api_key = 'CRejMTuSYokbz2JeNBBo1cb1nt3IOL8d1pcAjeBoq9qavYKuqAQLWfxFMFsqn70o'\n",
    "api_secret = 'OEKkQ2R328yMF4LAGw5K15tBwIuISYzjLpZ7nSQK8qHLWMI9AjGas6t31xvGDhUy'\n",
    "\n",
    "client = Client(api_key, api_secret)\n",
    "\n",
    "prices = client.get_all_tickers()\n",
    "\n",
    "len(prices)"
   ]
  },
  {
   "cell_type": "code",
   "execution_count": 105,
   "metadata": {},
   "outputs": [],
   "source": [
    "import urllib.request\n",
    "import json\n",
    "response = urllib.request.urlopen('https://bittrex.com/api/v1.1/public/getmarketsummaries')\n",
    "summary=json.loads(response.read())\n"
   ]
  },
  {
   "cell_type": "code",
   "execution_count": 32,
   "metadata": {},
   "outputs": [
    {
     "name": "stdout",
     "output_type": "stream",
     "text": [
      "BTC-2GIVE,0.0247665,2016-05-16\n",
      "BTC-ABY,0.0250667,2014-10-31\n",
      "BTC-ARDR,0.0,2016-10-13\n",
      "BTC-BITB,0.0202635,2015-02-15\n",
      "BTC-BURST,0.0741494,2014-09-16\n",
      "BTC-COVAL,0.0358739,2015-01-22\n",
      "BTC-DGB,0.1055203,2014-08-20\n",
      "BTC-DOGE,0.009606400000000001,2014-02-13\n",
      "BTC-FLDC,0.064543,2015-02-23\n",
      "BTC-MUSIC,0.0603402,2017-03-27\n",
      "BTC-PINK,0.06559369999999999,2014-07-29\n",
      "BTC-PTC,0.13959300000000002,2014-03-27\n",
      "BTC-RDD,0.0205637,2014-02-25\n",
      "BTC-SC,0.042478300000000004,2017-05-22\n",
      "BTC-SWIFT,0.0,2014-10-03\n",
      "BTC-XDN,0.032121399999999994,2014-06-21\n",
      "BTC-XMY,0.0229653,2014-03-15\n"
     ]
    }
   ],
   "source": [
    "from datetime import datetime\n",
    "\n",
    "class InvalidBase(Exception):\n",
    "    pass\n",
    "\n",
    "def convert_price(display_price,market_name):\n",
    "    btc_price = 15010.00\n",
    "    eth_price = 968.50\n",
    "    \n",
    "    base = market_name[:3]\n",
    "    \n",
    "    if base == 'BTC':\n",
    "        return display_price*btc_price\n",
    "    elif base == 'ETH':\n",
    "        return display_price*eth_price\n",
    "    elif base == 'USD':\n",
    "        return display_price\n",
    "    else:\n",
    "        raise InvalidBase\n",
    "\n",
    "date_threshold = '2017-06-30'\n",
    "price_threshold_in_dollar = 1/6.5\n",
    "\n",
    "filtered = [(record['MarketName'],convert_price(record['Ask'],record['MarketName']),record['Created'][:10]) for record in summary['result'] \\\n",
    "            if convert_price(record['Ask'],record['MarketName'])<price_threshold_in_dollar and \\\n",
    "            datetime.strptime(record['Created'][:10], '%Y-%m-%d')<datetime.strptime(date_threshold, '%Y-%m-%d')]\n",
    "\n",
    "for i in filtered:\n",
    "    print(i[0]+','+str(i[1])+','+i[2])"
   ]
  },
  {
   "cell_type": "code",
   "execution_count": 121,
   "metadata": {},
   "outputs": [
    {
     "name": "stdout",
     "output_type": "stream",
     "text": [
      "hour 8, hourly_btc 6.926325010000001\n",
      "total btc 6.926325010000001, total trades 356\n"
     ]
    }
   ],
   "source": [
    "import time\n",
    "from datetime import timedelta\n",
    "\n",
    "total_btc=0\n",
    "symbol='POEBTC'\n",
    "\n",
    "utc_time = datetime.strptime(\"2017-11-20T02\",\n",
    "                             \"%Y-%m-%dT%H\")\n",
    "\n",
    "base_time=(utc_time - datetime(1970, 1, 1)) // timedelta(milliseconds=1)\n",
    "\n",
    "\n",
    "\n",
    "\n",
    "for hour_i in range(1):\n",
    "    #start_time=base_time +hour_i*3600*1000\n",
    "    start_time=1513454400000\n",
    "    #end_time = start_time+3600*1000-1\n",
    "    end_time = 1513457999999\n",
    "\n",
    "    trades = client.get_aggregate_trades(symbol=symbol,startTime=start_time,endTime=end_time)\n",
    "    hourly_btc=0\n",
    "    trade_count=0\n",
    "    for record in trades:\n",
    "        total_btc += float(record['q'])*float(record['p'])\n",
    "        hourly_btc +=  float(record['q'])*float(record['p'])\n",
    "        trade_count +=1\n",
    "    print(\"hour {}, hourly_btc {}\".format(hour_i+8,hourly_btc))\n",
    "\n",
    "print(\"total btc {}, total trades {}\".format(total_btc,trade_count))"
   ]
  },
  {
   "cell_type": "code",
   "execution_count": 193,
   "metadata": {},
   "outputs": [],
   "source": [
    "end_time=int(time.time()*1000)\n",
    "start_time=end_time-2*3600*1000+1\n",
    "\n",
    "#candles = client.get_klines(symbol='POEBTC', interval='1d',startTime=start_time,endTime=end_time)\n",
    "\n",
    "prices = client.get_all_tickers()\n",
    "\n",
    "#candles = client.get_klines(symbol='POEBTC', interval='1d')\n",
    "\n",
    "price_ratio = 3\n",
    "\n",
    "def get_base_price():\n",
    "    base_price={}\n",
    "    for base_symbol in ['BNBUSDT', 'BTCUSDT', 'ETHUSDT']:\n",
    "        base_price[base_symbol]={}\n",
    "        for record in client.get_klines(symbol=base_symbol, interval='1d'):\n",
    "            base_price[base_symbol][record[0]] = (float(record[1]) + float(record[4]))/2\n",
    "    return base_price\n",
    "\n"
   ]
  },
  {
   "cell_type": "code",
   "execution_count": 195,
   "metadata": {},
   "outputs": [
    {
     "name": "stdout",
     "output_type": "stream",
     "text": [
      "1009.08\n"
     ]
    }
   ],
   "source": [
    "def convert_price_daily(price,symbol,time_stamp, base_p=get_base_price()):\n",
    "    \n",
    "    if symbol.endswith('BTC'):\n",
    "        if base_p['BTCUSDT'].get(time_stamp,None) == None:\n",
    "            return None\n",
    "        return price*base_p['BTCUSDT'].get(time_stamp,None)\n",
    "    elif symbol.endswith('ETH'):\n",
    "        if base_p['ETHUSDT'].get(time_stamp,None) == None:\n",
    "            return None\n",
    "        return price*base_p['ETHUSDT'].get(time_stamp,None)\n",
    "    elif symbol.endswith('BNB'):\n",
    "        if base_p['BNBUSDT'].get(time_stamp,None) == None:\n",
    "            return None\n",
    "        return price*base_p['BNBUSDT'].get(time_stamp,None)\n",
    "    elif symbol.endswith('USDT'):\n",
    "        return price\n",
    "    else:\n",
    "        return None\n",
    "\n",
    "print(base_price['ETHUSDT'][int(time.time()/3600/24)*3600*24*1000])\n"
   ]
  },
  {
   "cell_type": "code",
   "execution_count": 180,
   "metadata": {},
   "outputs": [
    {
     "name": "stdout",
     "output_type": "stream",
     "text": [
      "symbol MTLBTC, min price in USDT 3.1768821500000004, min price date 2017-10-08, current price in USDT 7.11602364\n",
      "symbol MTLETH, min price in USDT 3.3457599999999994, min price date 2017-10-08, current price in USDT 7.052460120000001\n",
      "symbol BTGBTC, min price in USDT 108.16605675, min price date 2017-10-23, current price in USDT 252.27835962\n",
      "symbol BTGETH, min price in USDT 111.75424055, min price date 2017-10-27, current price in USDT 254.83709952\n",
      "symbol BCDBTC, min price in USDT 28.159293, min price date 2017-12-07, current price in USDT 43.411149\n",
      "symbol BCDETH, min price in USDT 29.1588896, min price date 2017-12-11, current price in USDT 46.720404\n",
      "symbol DGDBTC, min price in USDT 72.285911, min price date 2017-11-26, current price in USDT 187.3488999\n",
      "symbol DGDETH, min price in USDT 71.838223, min price date 2017-11-26, current price in USDT 186.7907988\n",
      "symbol LTCETH, min price in USDT 192.08807499999998, min price date 2018-01-03, current price in USDT 279.07116479999996\n",
      "symbol LTCUSDT, min price in USDT 177.58, min price date 2017-12-21, current price in USDT 280.87\n",
      "symbol WAVESBTC, min price in USDT 8.4687025, min price date 2017-12-14, current price in USDT 12.876938471999999\n",
      "symbol WAVESETH, min price in USDT 10.160325, min price date 2017-12-14, current price in USDT 12.70532628\n",
      "symbol WAVESBNB, min price in USDT 8.40903, min price date 2018-01-04, current price in USDT 11.257960000000002\n",
      "symbol ELFBTC, min price in USDT 0.665041728, min price date 2017-12-20, current price in USDT 1.9478837916\n",
      "symbol AIONBTC, min price in USDT 3.261759725, min price date 2017-12-22, current price in USDT 8.530716378\n",
      "symbol AIONETH, min price in USDT 3.1887250000000003, min price date 2017-12-22, current price in USDT 8.58121632\n",
      "symbol BRDBTC, min price in USDT 1.0854000000000001, min price date 2017-12-23, current price in USDT 3.0202242918\n",
      "symbol BRDETH, min price in USDT 1.07112225, min price date 2017-12-23, current price in USDT 2.9656861200000004\n",
      "symbol MCOBNB, min price in USDT 8.739749999999999, min price date 2017-12-24, current price in USDT 17.437903000000002\n",
      "symbol EDOBTC, min price in USDT 3.200391315, min price date 2017-12-25, current price in USDT 5.783046006\n",
      "symbol EDOETH, min price in USDT 3.2479601999999996, min price date 2017-12-26, current price in USDT 5.85064584\n",
      "symbol WINGSBTC, min price in USDT 0.9382160970000001, min price date 2017-12-26, current price in USDT 1.738148358\n",
      "symbol NAVBTC, min price in USDT 2.8169499080000002, min price date 2018-01-01, current price in USDT 4.553914649999999\n",
      "symbol NAVETH, min price in USDT 2.0858459999999996, min price date 2017-12-26, current price in USDT 4.46618808\n",
      "symbol NAVBNB, min price in USDT 2.29806777, min price date 2018-01-04, current price in USDT 4.722571\n",
      "symbol TRIGBNB, min price in USDT 3.288651504, min price date 2018-01-04, current price in USDT 7.254744000000001\n"
     ]
    }
   ],
   "source": [
    "from datetime import date\n",
    "\n",
    "for record in prices:\n",
    "    symbol=record['symbol']\n",
    "    current_price=convert_price_daily(float(record['price']),symbol,int(time.time()/3600/24)*3600*24*1000)\n",
    "    if current_price == None:\n",
    "        continue\n",
    "    \n",
    "    min_price=10000000.0\n",
    "    min_price_date=''\n",
    "    for daily in client.get_klines(symbol=symbol, interval='1d'):\n",
    "        daily_price = convert_price_daily(float(daily[3]),symbol,daily[0])\n",
    "        if float(daily[3])>0 and daily_price!=None and daily_price<min_price:\n",
    "            min_price = daily_price\n",
    "            min_price_date = date.fromtimestamp(daily[0]/1000).strftime('%Y-%m-%d')\n",
    "    if current_price < min_price * price_ratio:\n",
    "       print('symbol {}, min price in USDT {}, min price date {}, current price in USDT {}'.format(symbol,min_price,min_price_date,current_price))"
   ]
  },
  {
   "cell_type": "code",
   "execution_count": 189,
   "metadata": {},
   "outputs": [
    {
     "name": "stdout",
     "output_type": "stream",
     "text": [
      "103\n"
     ]
    }
   ],
   "source": [
    "import requests\n",
    "\n",
    "r=requests.get('https://api.huobi.pro/v1/common/symbols')\n",
    "huobi_symbols=r.json()['data']\n",
    "\n",
    "for record in huobi_symbols:\n",
    "    symbol = record['base-currency']+record['quote-currency']\n",
    "    current_price = convert_price_daily(requests.get('https://api.huobi.pro/market/trade?symbol={}'.format(symbol)).\\\n",
    "        json['tick']['data'][0]['price'])\n",
    "    for dai"
   ]
  },
  {
   "cell_type": "code",
   "execution_count": 196,
   "metadata": {
    "collapsed": true
   },
   "outputs": [],
   "source": [
    "from my_agent import Agent\n"
   ]
  },
  {
   "cell_type": "code",
   "execution_count": 198,
   "metadata": {},
   "outputs": [
    {
     "name": "stdout",
     "output_type": "stream",
     "text": [
      "getting kline for all symbols...\n"
     ]
    },
    {
     "name": "stderr",
     "output_type": "stream",
     "text": [
      "100%|████████████████████████████████████| 241/241 [01:39<00:00,  2.42symbol/s]\n"
     ]
    }
   ],
   "source": [
    "df = Agent('binance').get_all_klines()"
   ]
  },
  {
   "cell_type": "code",
   "execution_count": 200,
   "metadata": {},
   "outputs": [
    {
     "data": {
      "text/html": [
       "<div>\n",
       "<style>\n",
       "    .dataframe thead tr:only-child th {\n",
       "        text-align: right;\n",
       "    }\n",
       "\n",
       "    .dataframe thead th {\n",
       "        text-align: left;\n",
       "    }\n",
       "\n",
       "    .dataframe tbody tr th {\n",
       "        vertical-align: top;\n",
       "    }\n",
       "</style>\n",
       "<table border=\"1\" class=\"dataframe\">\n",
       "  <thead>\n",
       "    <tr style=\"text-align: right;\">\n",
       "      <th></th>\n",
       "      <th>index</th>\n",
       "      <th>open_ts</th>\n",
       "      <th>open</th>\n",
       "      <th>high</th>\n",
       "      <th>low</th>\n",
       "      <th>close</th>\n",
       "      <th>volume</th>\n",
       "      <th>asset_volume</th>\n",
       "      <th>trades</th>\n",
       "      <th>symbol</th>\n",
       "      <th>interval</th>\n",
       "    </tr>\n",
       "  </thead>\n",
       "  <tbody>\n",
       "  </tbody>\n",
       "</table>\n",
       "</div>"
      ],
      "text/plain": [
       "Empty DataFrame\n",
       "Columns: [index, open_ts, open, high, low, close, volume, asset_volume, trades, symbol, interval]\n",
       "Index: []"
      ]
     },
     "execution_count": 200,
     "metadata": {},
     "output_type": "execute_result"
    }
   ],
   "source": [
    "df2=df.reset_index()\n",
    "\n",
    "df2[df2.index.duplicated()]"
   ]
  },
  {
   "cell_type": "code",
   "execution_count": 201,
   "metadata": {
    "collapsed": true
   },
   "outputs": [],
   "source": [
    "df_base = (df2.assign(rn=df2.sort_values(['open_ts'], ascending=True).groupby(['symbol']).cumcount() + 1).query('rn == 1'))"
   ]
  },
  {
   "cell_type": "code",
   "execution_count": 204,
   "metadata": {},
   "outputs": [
    {
     "data": {
      "text/html": [
       "<div>\n",
       "<style>\n",
       "    .dataframe thead tr:only-child th {\n",
       "        text-align: right;\n",
       "    }\n",
       "\n",
       "    .dataframe thead th {\n",
       "        text-align: left;\n",
       "    }\n",
       "\n",
       "    .dataframe tbody tr th {\n",
       "        vertical-align: top;\n",
       "    }\n",
       "</style>\n",
       "<table border=\"1\" class=\"dataframe\">\n",
       "  <thead>\n",
       "    <tr style=\"text-align: right;\">\n",
       "      <th></th>\n",
       "      <th>index_x</th>\n",
       "      <th>open_ts_x</th>\n",
       "      <th>open_x</th>\n",
       "      <th>high_x</th>\n",
       "      <th>low_x</th>\n",
       "      <th>close_x</th>\n",
       "      <th>volume_x</th>\n",
       "      <th>asset_volume_x</th>\n",
       "      <th>trades_x</th>\n",
       "      <th>symbol</th>\n",
       "      <th>...</th>\n",
       "      <th>index_y</th>\n",
       "      <th>open_ts_y</th>\n",
       "      <th>open_y</th>\n",
       "      <th>high_y</th>\n",
       "      <th>low_y</th>\n",
       "      <th>close_y</th>\n",
       "      <th>volume_y</th>\n",
       "      <th>asset_volume_y</th>\n",
       "      <th>trades_y</th>\n",
       "      <th>interval_y</th>\n",
       "    </tr>\n",
       "  </thead>\n",
       "  <tbody>\n",
       "    <tr>\n",
       "      <th>0</th>\n",
       "      <td>0</td>\n",
       "      <td>1515715200000</td>\n",
       "      <td>0.90000000</td>\n",
       "      <td>99.00000000</td>\n",
       "      <td>0.10000000</td>\n",
       "      <td>0.17116000</td>\n",
       "      <td>467088.33000000</td>\n",
       "      <td>112757.91587470</td>\n",
       "      <td>6983</td>\n",
       "      <td>RLCBNB</td>\n",
       "      <td>...</td>\n",
       "      <td>0</td>\n",
       "      <td>1515715200000</td>\n",
       "      <td>0.90000000</td>\n",
       "      <td>99.00000000</td>\n",
       "      <td>0.10000000</td>\n",
       "      <td>0.17116000</td>\n",
       "      <td>467088.33000000</td>\n",
       "      <td>112757.91587470</td>\n",
       "      <td>6983</td>\n",
       "      <td>1d</td>\n",
       "    </tr>\n",
       "    <tr>\n",
       "      <th>1</th>\n",
       "      <td>0</td>\n",
       "      <td>1515715200000</td>\n",
       "      <td>0.90000000</td>\n",
       "      <td>99.00000000</td>\n",
       "      <td>0.10000000</td>\n",
       "      <td>0.17116000</td>\n",
       "      <td>467088.33000000</td>\n",
       "      <td>112757.91587470</td>\n",
       "      <td>6983</td>\n",
       "      <td>RLCBNB</td>\n",
       "      <td>...</td>\n",
       "      <td>1</td>\n",
       "      <td>1515801600000</td>\n",
       "      <td>0.16920000</td>\n",
       "      <td>0.17230000</td>\n",
       "      <td>0.16000000</td>\n",
       "      <td>0.16688000</td>\n",
       "      <td>17354.53000000</td>\n",
       "      <td>2844.04782810</td>\n",
       "      <td>254</td>\n",
       "      <td>1d</td>\n",
       "    </tr>\n",
       "    <tr>\n",
       "      <th>2</th>\n",
       "      <td>0</td>\n",
       "      <td>1515715200000</td>\n",
       "      <td>0.00250000</td>\n",
       "      <td>0.01890000</td>\n",
       "      <td>0.00102000</td>\n",
       "      <td>0.00300600</td>\n",
       "      <td>3583116.57000000</td>\n",
       "      <td>15689.16519315</td>\n",
       "      <td>41218</td>\n",
       "      <td>RLCETH</td>\n",
       "      <td>...</td>\n",
       "      <td>0</td>\n",
       "      <td>1515715200000</td>\n",
       "      <td>0.00250000</td>\n",
       "      <td>0.01890000</td>\n",
       "      <td>0.00102000</td>\n",
       "      <td>0.00300600</td>\n",
       "      <td>3583116.57000000</td>\n",
       "      <td>15689.16519315</td>\n",
       "      <td>41218</td>\n",
       "      <td>1d</td>\n",
       "    </tr>\n",
       "    <tr>\n",
       "      <th>3</th>\n",
       "      <td>0</td>\n",
       "      <td>1515715200000</td>\n",
       "      <td>0.00250000</td>\n",
       "      <td>0.01890000</td>\n",
       "      <td>0.00102000</td>\n",
       "      <td>0.00300600</td>\n",
       "      <td>3583116.57000000</td>\n",
       "      <td>15689.16519315</td>\n",
       "      <td>41218</td>\n",
       "      <td>RLCETH</td>\n",
       "      <td>...</td>\n",
       "      <td>1</td>\n",
       "      <td>1515801600000</td>\n",
       "      <td>0.00300100</td>\n",
       "      <td>0.00300600</td>\n",
       "      <td>0.00280900</td>\n",
       "      <td>0.00297600</td>\n",
       "      <td>90821.70000000</td>\n",
       "      <td>264.36341551</td>\n",
       "      <td>1176</td>\n",
       "      <td>1d</td>\n",
       "    </tr>\n",
       "    <tr>\n",
       "      <th>4</th>\n",
       "      <td>0</td>\n",
       "      <td>1515715200000</td>\n",
       "      <td>0.00037000</td>\n",
       "      <td>0.00109000</td>\n",
       "      <td>0.00026000</td>\n",
       "      <td>0.00027440</td>\n",
       "      <td>16168061.14000000</td>\n",
       "      <td>6229.73023419</td>\n",
       "      <td>104632</td>\n",
       "      <td>RLCBTC</td>\n",
       "      <td>...</td>\n",
       "      <td>0</td>\n",
       "      <td>1515715200000</td>\n",
       "      <td>0.00037000</td>\n",
       "      <td>0.00109000</td>\n",
       "      <td>0.00026000</td>\n",
       "      <td>0.00027440</td>\n",
       "      <td>16168061.14000000</td>\n",
       "      <td>6229.73023419</td>\n",
       "      <td>104632</td>\n",
       "      <td>1d</td>\n",
       "    </tr>\n",
       "  </tbody>\n",
       "</table>\n",
       "<p>5 rows × 22 columns</p>\n",
       "</div>"
      ],
      "text/plain": [
       "   index_x      open_ts_x      open_x       high_x       low_x     close_x  \\\n",
       "0        0  1515715200000  0.90000000  99.00000000  0.10000000  0.17116000   \n",
       "1        0  1515715200000  0.90000000  99.00000000  0.10000000  0.17116000   \n",
       "2        0  1515715200000  0.00250000   0.01890000  0.00102000  0.00300600   \n",
       "3        0  1515715200000  0.00250000   0.01890000  0.00102000  0.00300600   \n",
       "4        0  1515715200000  0.00037000   0.00109000  0.00026000  0.00027440   \n",
       "\n",
       "            volume_x   asset_volume_x  trades_x  symbol    ...     index_y  \\\n",
       "0    467088.33000000  112757.91587470      6983  RLCBNB    ...           0   \n",
       "1    467088.33000000  112757.91587470      6983  RLCBNB    ...           1   \n",
       "2   3583116.57000000   15689.16519315     41218  RLCETH    ...           0   \n",
       "3   3583116.57000000   15689.16519315     41218  RLCETH    ...           1   \n",
       "4  16168061.14000000    6229.73023419    104632  RLCBTC    ...           0   \n",
       "\n",
       "       open_ts_y      open_y       high_y       low_y     close_y  \\\n",
       "0  1515715200000  0.90000000  99.00000000  0.10000000  0.17116000   \n",
       "1  1515801600000  0.16920000   0.17230000  0.16000000  0.16688000   \n",
       "2  1515715200000  0.00250000   0.01890000  0.00102000  0.00300600   \n",
       "3  1515801600000  0.00300100   0.00300600  0.00280900  0.00297600   \n",
       "4  1515715200000  0.00037000   0.00109000  0.00026000  0.00027440   \n",
       "\n",
       "            volume_y   asset_volume_y trades_y interval_y  \n",
       "0    467088.33000000  112757.91587470     6983         1d  \n",
       "1     17354.53000000    2844.04782810      254         1d  \n",
       "2   3583116.57000000   15689.16519315    41218         1d  \n",
       "3     90821.70000000     264.36341551     1176         1d  \n",
       "4  16168061.14000000    6229.73023419   104632         1d  \n",
       "\n",
       "[5 rows x 22 columns]"
      ]
     },
     "execution_count": 204,
     "metadata": {},
     "output_type": "execute_result"
    }
   ],
   "source": [
    "import pandas as pd\n",
    "days = 7\n",
    "pd.merge(df2,df_base, on='symbol').query('open_ts_x < open_ts_y +{}'.format(days*24*3600*1000))"
   ]
  },
  {
   "cell_type": "code",
   "execution_count": null,
   "metadata": {
    "collapsed": true
   },
   "outputs": [],
   "source": []
  }
 ],
 "metadata": {
  "kernelspec": {
   "display_name": "Python 3",
   "language": "python",
   "name": "python3"
  },
  "language_info": {
   "codemirror_mode": {
    "name": "ipython",
    "version": 3
   },
   "file_extension": ".py",
   "mimetype": "text/x-python",
   "name": "python",
   "nbconvert_exporter": "python",
   "pygments_lexer": "ipython3",
   "version": "3.6.1"
  }
 },
 "nbformat": 4,
 "nbformat_minor": 2
}
